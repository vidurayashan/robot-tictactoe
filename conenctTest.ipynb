{
 "cells": [
  {
   "cell_type": "code",
   "execution_count": 3,
   "id": "81b1e38f-af29-4321-930f-57f0e85c2bca",
   "metadata": {},
   "outputs": [],
   "source": [
    "import threading\n",
    "import DobotDllType as dType\n",
    "import numpy as np\n",
    "import math\n",
    "import time"
   ]
  },
  {
   "cell_type": "code",
   "execution_count": 4,
   "id": "a6df9acd-96c9-4353-b5d8-f496b6d3a856",
   "metadata": {},
   "outputs": [],
   "source": [
    "CON_STR = {\n",
    "    dType.DobotConnect.DobotConnect_NoError:  \"DobotConnect_NoError\",\n",
    "    dType.DobotConnect.DobotConnect_NotFound: \"DobotConnect_NotFound\",\n",
    "    dType.DobotConnect.DobotConnect_Occupied: \"DobotConnect_Occupied\"}"
   ]
  },
  {
   "cell_type": "code",
   "execution_count": 5,
   "id": "6f0ef459-d4dc-4240-8be9-b1e28904f100",
   "metadata": {},
   "outputs": [
    {
     "name": "stdout",
     "output_type": "stream",
     "text": [
      "您用的dll是64位，为了顺利运行，请保证您的python环境也是64位\n",
      "python环境是： ('64bit', 'WindowsPE')\n",
      "Connect status: DobotConnect_NoError\n"
     ]
    }
   ],
   "source": [
    "#将dll读取到内存中并获取对应的CDLL实例\n",
    "#Load Dll and get the CDLL object\n",
    "api = dType.load()\n",
    "#建立与dobot的连接\n",
    "#Connect Dobot\n",
    "state = dType.ConnectDobot(api, \"\", 115200)[0]\n",
    "print(\"Connect status:\",CON_STR[state])"
   ]
  },
  {
   "cell_type": "code",
   "execution_count": 6,
   "id": "f4355a3d-d422-4af4-9deb-8bb4d505285d",
   "metadata": {},
   "outputs": [
    {
     "data": {
      "text/plain": [
       "[0]"
      ]
     },
     "execution_count": 6,
     "metadata": {},
     "output_type": "execute_result"
    }
   ],
   "source": [
    "dType.SetQueuedCmdClear(api)"
   ]
  },
  {
   "cell_type": "code",
   "execution_count": 5,
   "id": "f8afa3b0-a6b3-4163-84fc-f55523ca9e15",
   "metadata": {},
   "outputs": [],
   "source": [
    "dType.SetPTPJointParams(api,200,200,200,200,200,200,200,200,0)\n",
    "dType.SetPTPCoordinateParams(api,200,200,200,200,0)\n",
    "dType.SetPTPJumpParams(api, 10, 200,0)\n",
    "dType.SetPTPCommonParams(api, 100, 100,0)\n",
    "moveX=0;moveY=0;moveZ=10;moveFlag=-1\n",
    "pos = dType.GetPose(api)\n",
    "x = pos[0]\n",
    "y = pos[1]\n",
    "z = pos[2]\n",
    "rHead = pos[3]"
   ]
  },
  {
   "cell_type": "code",
   "execution_count": 6,
   "id": "e03cd418-562e-465b-8c11-73a49dea6f4c",
   "metadata": {},
   "outputs": [],
   "source": [
    "moveFlag *= -1\n",
    "for i in range(5):\n",
    "    dType.SetPTPCmd(api, 2, x+moveX, y+moveY, z+moveZ, rHead, 1)\n",
    "    moveX += 10 * moveFlag\n",
    "    dType.SetPTPCmd(api, 2, x+moveX, y+moveY, z+moveZ, rHead, 1)\n",
    "    dType.SetPTPCmd(api, 2, x+moveX, y+moveY, z, rHead, 1)"
   ]
  },
  {
   "cell_type": "code",
   "execution_count": null,
   "id": "25fc13bb-aeff-42ad-9346-8cc3b8521025",
   "metadata": {},
   "outputs": [],
   "source": [
    "pos = dType.GetPose(api)\n",
    "x = pos[0]\n",
    "y = pos[1]\n",
    "z = pos[2]\n",
    "\n",
    "print(x,y,z)"
   ]
  },
  {
   "cell_type": "code",
   "execution_count": null,
   "id": "7a04dff9-9cc1-4f38-a4e0-11d00d7292af",
   "metadata": {},
   "outputs": [],
   "source": [
    "pos = dType.GetPose(api)\n",
    "x = pos[0]\n",
    "y = pos[1]\n",
    "z = pos[2]\n",
    "\n",
    "print(x,y,z)"
   ]
  },
  {
   "cell_type": "code",
   "execution_count": 15,
   "id": "a6ee6a43-c464-481b-956b-3d1c92feb57e",
   "metadata": {},
   "outputs": [],
   "source": [
    "# prev_pose = dType.GetPose(api)\n",
    "# while(True):\n",
    "#     time.sleep(0.5)\n",
    "#     pose = dType.GetPose(api)\n",
    "#     if prev_pose == pose:\n",
    "#         continue\n",
    "#     prev_pose = pose\n",
    "#     print(pose)"
   ]
  },
  {
   "cell_type": "code",
   "execution_count": 7,
   "id": "d84902cd-98be-4dcb-89c0-057a6e16df55",
   "metadata": {},
   "outputs": [],
   "source": [
    "pickupLoc = {}\n",
    "refLoc = {}\n",
    "homeLoc = None\n",
    "globZ = None\n",
    "\n",
    "boardPos = {}"
   ]
  },
  {
   "cell_type": "code",
   "execution_count": 8,
   "id": "9431cb8c-aa56-461f-a7a5-4f894d6b1f24",
   "metadata": {},
   "outputs": [],
   "source": [
    "locList = [\"Z\", \"Pickup Loc 1\", \"Pickup Loc 2\", \"Pickup Loc 3\", \"Home\", \"Ref 1\", \"Ref 2\"]\n",
    "def setCoordinates(locList = locList):\n",
    "    global pickupLoc, refLoc, homeLoc, globZ\n",
    "    prev_pose = dType.GetPose(api)\n",
    "    allLoc = []\n",
    "    cnt = 0\n",
    "    while(True):\n",
    "        time.sleep(0.5)\n",
    "        pose = dType.GetPose(api)\n",
    "        if prev_pose == pose:\n",
    "            continue\n",
    "        prev_pose = pose\n",
    "        allLoc.append(pose)\n",
    "        print(f\"Location set: {locList[cnt]}\")\n",
    "        cnt += 1\n",
    "        if len(allLoc) == 7:\n",
    "            break\n",
    "\n",
    "\n",
    "    globZ = allLoc[0][2]\n",
    "    pickupLoc[1] = (allLoc[1][0], allLoc[1][1], globZ) \n",
    "    pickupLoc[2] = (allLoc[2][0], allLoc[2][1], globZ) \n",
    "    pickupLoc[3] = (allLoc[3][0], allLoc[3][1], globZ)\n",
    "\n",
    "    homeLoc = (allLoc[4][0], allLoc[4][1], allLoc[4][2]) \n",
    "    refLoc[1] = (allLoc[5][0], allLoc[5][1]) \n",
    "    refLoc[2] = (allLoc[6][1], allLoc[6][1])\n",
    "\n",
    "def setCoordinatesHome():\n",
    "    global homeLoc\n",
    "    prev_pose = dType.GetPose(api)\n",
    "    while(True):\n",
    "        time.sleep(0.5)\n",
    "        pose = dType.GetPose(api)\n",
    "        if prev_pose == pose:\n",
    "            continue\n",
    "        prev_pose = pose\n",
    "        homeLoc = (pose[0], pose[1], pose[2])\n",
    "        print(f\"Location set: Home\")\n",
    "        break\n",
    "\n",
    "\n",
    "def pick(location):\n",
    "    x = location[0]\n",
    "    y = location[1]\n",
    "\n",
    "    current_pose = dType.GetPose(api)\n",
    "    dType.SetPTPCmdEx(api, 2, x,  y,  globZ+30, current_pose[3], 1)\n",
    "    current_pose = dType.GetPose(api)\n",
    "    dType.SetPTPCmdEx(api, 2, x,  y,  globZ-5, current_pose[3], 1)\n",
    "    dType.SetEndEffectorSuctionCupEx(api, 1, 1)\n",
    "    dType.dSleep(1000)\n",
    "    current_pose = dType.GetPose(api)\n",
    "    dType.SetPTPCmdEx(api, 2, homeLoc[0],  homeLoc[1],  homeLoc[2], current_pose[3], 1)\n",
    "\n",
    "def drop(location):\n",
    "    x = location[0]\n",
    "    y = location[1]\n",
    "\n",
    "    current_pose = dType.GetPose(api)\n",
    "    dType.SetPTPCmdEx(api, 2, x,  y,  globZ+30, current_pose[3], 1)\n",
    "    current_pose = dType.GetPose(api)\n",
    "    dType.SetPTPCmdEx(api, 2, x,  y,  globZ+5, current_pose[3], 1)\n",
    "    dType.SetEndEffectorSuctionCupEx(api, 0, 1)\n",
    "    dType.dSleep(1000)\n",
    "    current_pose = dType.GetPose(api)\n",
    "    dType.SetPTPCmdEx(api, 2, homeLoc[0],  homeLoc[1],  homeLoc[2], current_pose[3], 1)\n",
    "\n",
    "def playPiece(iteration, location):\n",
    "    pickupLocation = pickupLoc[iteration]\n",
    "    pick(pickupLocation)\n",
    "\n",
    "    finalPosition = boardPos[location]\n",
    "    drop(finalPosition)\n"
   ]
  },
  {
   "cell_type": "code",
   "execution_count": 13,
   "id": "0da6959f-64ee-4305-8c7a-72e22ce5f30f",
   "metadata": {},
   "outputs": [
    {
     "name": "stdout",
     "output_type": "stream",
     "text": [
      "Location set: Z\n",
      "Location set: Pickup Loc 1\n",
      "Location set: Pickup Loc 2\n",
      "Location set: Pickup Loc 3\n",
      "Location set: Home\n",
      "Location set: Ref 1\n",
      "Location set: Ref 2\n"
     ]
    }
   ],
   "source": [
    "setCoordinates()"
   ]
  },
  {
   "cell_type": "code",
   "execution_count": 10,
   "id": "a75e1307-c919-40a7-b31f-95488ce788a2",
   "metadata": {},
   "outputs": [
    {
     "name": "stdout",
     "output_type": "stream",
     "text": [
      "Location set: Home\n"
     ]
    }
   ],
   "source": [
    "setCoordinatesHome()"
   ]
  },
  {
   "cell_type": "code",
   "execution_count": 73,
   "id": "5e6861a7-cb00-43cc-823f-0d29c359aa63",
   "metadata": {},
   "outputs": [
    {
     "data": {
      "text/plain": [
       "(-41.913856506347656,\n",
       " {1: (216.90786743164062, 82.30638885498047, -41.913856506347656),\n",
       "  2: (225.9152374267578, 54.1270751953125, -41.913856506347656),\n",
       "  3: (235.9609832763672, 24.176097869873047, -41.913856506347656)},\n",
       " {1: (285.6653137207031, -91.07048034667969),\n",
       "  2: (31.713298797607422, 31.713298797607422)},\n",
       " (224.08053588867188, -22.645063400268555, 123.52239990234375))"
      ]
     },
     "execution_count": 73,
     "metadata": {},
     "output_type": "execute_result"
    }
   ],
   "source": [
    "globZ, pickupLoc, refLoc, homeLoc"
   ]
  },
  {
   "cell_type": "code",
   "execution_count": 14,
   "id": "c83bc066-b41e-4686-96fb-7b4c7860faec",
   "metadata": {},
   "outputs": [],
   "source": [
    "pick(pickupLoc[1])"
   ]
  },
  {
   "cell_type": "code",
   "execution_count": 57,
   "id": "3145ac01-42bc-4c4f-b129-2273c83b47b5",
   "metadata": {},
   "outputs": [],
   "source": [
    "dType.SetEndEffectorSuctionCupEx(api, 0, 1)"
   ]
  },
  {
   "cell_type": "code",
   "execution_count": 15,
   "id": "877f6118-c50b-4e9f-878c-00e55451190f",
   "metadata": {},
   "outputs": [],
   "source": [
    "drop(pickupLoc[2])"
   ]
  },
  {
   "cell_type": "code",
   "execution_count": null,
   "id": "a186516d-683f-48d3-a402-302d265da33e",
   "metadata": {},
   "outputs": [],
   "source": []
  }
 ],
 "metadata": {
  "kernelspec": {
   "display_name": "Python 3 (ipykernel)",
   "language": "python",
   "name": "python3"
  },
  "language_info": {
   "codemirror_mode": {
    "name": "ipython",
    "version": 3
   },
   "file_extension": ".py",
   "mimetype": "text/x-python",
   "name": "python",
   "nbconvert_exporter": "python",
   "pygments_lexer": "ipython3",
   "version": "3.8.17"
  }
 },
 "nbformat": 4,
 "nbformat_minor": 5
}
